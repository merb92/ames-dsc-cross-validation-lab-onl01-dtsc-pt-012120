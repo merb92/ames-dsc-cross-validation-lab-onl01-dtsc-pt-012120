{
 "cells": [
  {
   "cell_type": "markdown",
   "metadata": {},
   "source": [
    "# Introduction to Cross-Validation - Lab\n",
    "\n",
    "## Introduction\n",
    "\n",
    "In this lab, you'll be able to practice your cross-validation skills!\n",
    "\n",
    "\n",
    "## Objectives\n",
    "\n",
    "You will be able to:\n",
    "\n",
    "- Perform cross validation on a model to determine optimal model performance\n",
    "- Compare training and testing errors to determine if model is over or underfitting"
   ]
  },
  {
   "cell_type": "markdown",
   "metadata": {},
   "source": [
    "## Let's get started\n",
    "\n",
    "We included the code to pre-process below."
   ]
  },
  {
   "cell_type": "code",
   "execution_count": 1,
   "metadata": {
    "ExecuteTime": {
     "end_time": "2020-04-18T16:35:59.044259Z",
     "start_time": "2020-04-18T16:35:45.945145Z"
    }
   },
   "outputs": [],
   "source": [
    "import pandas as pd\n",
    "import numpy as np\n",
    "import matplotlib.pyplot as plt\n",
    "%matplotlib inline\n",
    "\n",
    "ames = pd.read_csv('ames.csv')\n",
    "\n",
    "continuous = ['LotArea', '1stFlrSF', 'GrLivArea', 'SalePrice']\n",
    "categoricals = ['BldgType', 'KitchenQual', 'SaleType', 'MSZoning', 'Street', 'Neighborhood']\n",
    "\n",
    "ames_cont = ames[continuous]\n",
    "\n",
    "# log features\n",
    "log_names = [f'{column}_log' for column in ames_cont.columns]\n",
    "\n",
    "ames_log = np.log(ames_cont)\n",
    "ames_log.columns = log_names\n",
    "\n",
    "# normalize (subract mean and divide by std)\n",
    "\n",
    "def normalize(feature):\n",
    "    return (feature - feature.mean()) / feature.std()\n",
    "\n",
    "ames_log_norm = ames_log.apply(normalize)\n",
    "\n",
    "# one hot encode categoricals\n",
    "ames_ohe = pd.get_dummies(ames[categoricals], prefix=categoricals, drop_first=True)\n",
    "\n",
    "preprocessed = pd.concat([ames_log_norm, ames_ohe], axis=1)\n",
    "\n",
    "X = preprocessed.drop('SalePrice_log', axis=1)\n",
    "y = preprocessed['SalePrice_log']"
   ]
  },
  {
   "cell_type": "markdown",
   "metadata": {},
   "source": [
    "### Train-test split\n",
    "\n",
    "Perform a train-test split with a test set of 20%."
   ]
  },
  {
   "cell_type": "code",
   "execution_count": 2,
   "metadata": {
    "ExecuteTime": {
     "end_time": "2020-04-18T16:36:36.788113Z",
     "start_time": "2020-04-18T16:36:24.566684Z"
    }
   },
   "outputs": [],
   "source": [
    "# Import train_test_split from sklearn.model_selection\n",
    "from sklearn.model_selection import train_test_split"
   ]
  },
  {
   "cell_type": "code",
   "execution_count": 3,
   "metadata": {
    "ExecuteTime": {
     "end_time": "2020-04-18T16:36:39.569282Z",
     "start_time": "2020-04-18T16:36:39.539924Z"
    }
   },
   "outputs": [],
   "source": [
    "# Split the data into training and test sets (assign 20% to test set)\n",
    "X_train, X_test, y_train, y_test = train_test_split(X, y, test_size=0.2)"
   ]
  },
  {
   "cell_type": "code",
   "execution_count": 4,
   "metadata": {
    "ExecuteTime": {
     "end_time": "2020-04-18T16:36:42.030498Z",
     "start_time": "2020-04-18T16:36:42.025251Z"
    }
   },
   "outputs": [
    {
     "name": "stdout",
     "output_type": "stream",
     "text": [
      "1168 292 1168 292\n"
     ]
    }
   ],
   "source": [
    "# A brief preview of train-test split\n",
    "print(len(X_train), len(X_test), len(y_train), len(y_test))\n"
   ]
  },
  {
   "cell_type": "markdown",
   "metadata": {},
   "source": [
    "### Fit the model"
   ]
  },
  {
   "cell_type": "markdown",
   "metadata": {},
   "source": [
    "Fit a linear regression model and apply the model to make predictions on test set"
   ]
  },
  {
   "cell_type": "code",
   "execution_count": 5,
   "metadata": {
    "ExecuteTime": {
     "end_time": "2020-04-18T16:37:05.495315Z",
     "start_time": "2020-04-18T16:37:04.245140Z"
    }
   },
   "outputs": [
    {
     "data": {
      "text/plain": [
       "LinearRegression(copy_X=True, fit_intercept=True, n_jobs=None, normalize=False)"
      ]
     },
     "execution_count": 5,
     "metadata": {},
     "output_type": "execute_result"
    }
   ],
   "source": [
    "from sklearn.linear_model import LinearRegression\n",
    "\n",
    "\n",
    "linreg = LinearRegression()\n",
    "linreg.fit(X_train, y_train)"
   ]
  },
  {
   "cell_type": "code",
   "execution_count": 6,
   "metadata": {
    "ExecuteTime": {
     "end_time": "2020-04-18T16:37:31.190099Z",
     "start_time": "2020-04-18T16:37:31.165931Z"
    }
   },
   "outputs": [],
   "source": [
    "\n",
    "y_hat_train = linreg.predict(X_train)\n",
    "y_hat_test = linreg.predict(X_test)"
   ]
  },
  {
   "cell_type": "markdown",
   "metadata": {},
   "source": [
    "### Residuals and MSE"
   ]
  },
  {
   "cell_type": "markdown",
   "metadata": {},
   "source": [
    "Calculate the residuals and the mean squared error on the test set"
   ]
  },
  {
   "cell_type": "code",
   "execution_count": 7,
   "metadata": {
    "ExecuteTime": {
     "end_time": "2020-04-18T16:37:43.176720Z",
     "start_time": "2020-04-18T16:37:43.170008Z"
    }
   },
   "outputs": [
    {
     "name": "stdout",
     "output_type": "stream",
     "text": [
      "Training MSE 0.160749978673047\n",
      "Test MSE 0.1700440367123\n"
     ]
    }
   ],
   "source": [
    "from sklearn.metrics import mean_squared_error\n",
    "train_mse = mean_squared_error(y_train, y_hat_train)\n",
    "test_mse = mean_squared_error(y_test, y_hat_test)\n",
    "print(f'Training MSE {train_mse}')\n",
    "print(f'Test MSE {test_mse}')"
   ]
  },
  {
   "cell_type": "markdown",
   "metadata": {},
   "source": [
    "## Cross-Validation: let's build it from scratch!"
   ]
  },
  {
   "cell_type": "markdown",
   "metadata": {},
   "source": [
    "### Create a cross-validation function"
   ]
  },
  {
   "cell_type": "markdown",
   "metadata": {},
   "source": [
    "Write a function `kfolds()` that splits a dataset into k evenly sized pieces. If the full dataset is not divisible by k, make the first few folds one larger then later ones.\n",
    "\n",
    "We want the folds to be a list of subsets of data!"
   ]
  },
  {
   "cell_type": "code",
   "execution_count": 8,
   "metadata": {
    "ExecuteTime": {
     "end_time": "2020-04-18T16:37:59.950728Z",
     "start_time": "2020-04-18T16:37:59.943590Z"
    }
   },
   "outputs": [],
   "source": [
    "def kfolds(data, k):\n",
    "    \"\"\"return a list of k subsets of data\"\"\"\n",
    "    # Force data as pandas DataFrame\n",
    "    # add 1 to fold size to account for leftovers\n",
    "    \n",
    "    split_size = len(data) // k \n",
    "    split_remainder = len(data) % k\n",
    "    \n",
    "    folds = []\n",
    "    start = 0\n",
    "    end = 0\n",
    "    \n",
    "    for i in range(k):\n",
    "        if split_remainder > 0:\n",
    "            end = start + split_size + 1\n",
    "            split_remainder -= 1\n",
    "        else:\n",
    "            end = start + split_size\n",
    "        folds.append(data[start:end])\n",
    "        start = end\n",
    "    \n",
    "    return folds"
   ]
  },
  {
   "cell_type": "markdown",
   "metadata": {},
   "source": [
    "### Apply it to the Ames Housing data"
   ]
  },
  {
   "cell_type": "code",
   "execution_count": 9,
   "metadata": {
    "ExecuteTime": {
     "end_time": "2020-04-18T16:39:41.604869Z",
     "start_time": "2020-04-18T16:39:41.599849Z"
    }
   },
   "outputs": [],
   "source": [
    "# Make sure to concatenate the data again\n",
    "ames_data = pd.concat([X, y], axis=1)"
   ]
  },
  {
   "cell_type": "code",
   "execution_count": 10,
   "metadata": {
    "ExecuteTime": {
     "end_time": "2020-04-18T16:40:08.633099Z",
     "start_time": "2020-04-18T16:40:08.554441Z"
    }
   },
   "outputs": [
    {
     "data": {
      "text/plain": [
       "[     LotArea_log  1stFlrSF_log  GrLivArea_log  BldgType_2fmCon  \\\n",
       " 0      -0.133185     -0.803295       0.529078                0   \n",
       " 1       0.113403      0.418442      -0.381715                0   \n",
       " 2       0.419917     -0.576363       0.659449                0   \n",
       " 3       0.103311     -0.439137       0.541326                0   \n",
       " 4       0.878108      0.112229       1.281751                0   \n",
       " ..           ...           ...            ...              ...   \n",
       " 287    -0.208982     -0.795950      -1.538509                0   \n",
       " 288     0.156994     -0.645537      -1.395230                0   \n",
       " 289    -0.070186     -1.445511      -0.079173                0   \n",
       " 290     1.053039     -0.074628       0.874786                0   \n",
       " 291    -0.898448     -0.522097       0.539579                1   \n",
       " \n",
       "      BldgType_Duplex  BldgType_Twnhs  BldgType_TwnhsE  KitchenQual_Fa  \\\n",
       " 0                  0               0                0               0   \n",
       " 1                  0               0                0               0   \n",
       " 2                  0               0                0               0   \n",
       " 3                  0               0                0               0   \n",
       " 4                  0               0                0               0   \n",
       " ..               ...             ...              ...             ...   \n",
       " 287                0               0                0               0   \n",
       " 288                0               0                0               0   \n",
       " 289                0               0                0               0   \n",
       " 290                0               0                0               0   \n",
       " 291                0               0                0               1   \n",
       " \n",
       "      KitchenQual_Gd  KitchenQual_TA  ...  Neighborhood_NridgHt  \\\n",
       " 0                 1               0  ...                     0   \n",
       " 1                 0               1  ...                     0   \n",
       " 2                 1               0  ...                     0   \n",
       " 3                 1               0  ...                     0   \n",
       " 4                 1               0  ...                     0   \n",
       " ..              ...             ...  ...                   ...   \n",
       " 287               0               1  ...                     0   \n",
       " 288               0               1  ...                     0   \n",
       " 289               0               1  ...                     0   \n",
       " 290               1               0  ...                     0   \n",
       " 291               0               0  ...                     0   \n",
       " \n",
       "      Neighborhood_OldTown  Neighborhood_SWISU  Neighborhood_Sawyer  \\\n",
       " 0                       0                   0                    0   \n",
       " 1                       0                   0                    0   \n",
       " 2                       0                   0                    0   \n",
       " 3                       0                   0                    0   \n",
       " 4                       0                   0                    0   \n",
       " ..                    ...                 ...                  ...   \n",
       " 287                     0                   0                    0   \n",
       " 288                     0                   0                    1   \n",
       " 289                     0                   0                    0   \n",
       " 290                     0                   0                    0   \n",
       " 291                     0                   1                    0   \n",
       " \n",
       "      Neighborhood_SawyerW  Neighborhood_Somerst  Neighborhood_StoneBr  \\\n",
       " 0                       0                     0                     0   \n",
       " 1                       0                     0                     0   \n",
       " 2                       0                     0                     0   \n",
       " 3                       0                     0                     0   \n",
       " 4                       0                     0                     0   \n",
       " ..                    ...                   ...                   ...   \n",
       " 287                     0                     0                     0   \n",
       " 288                     0                     0                     0   \n",
       " 289                     0                     0                     0   \n",
       " 290                     0                     0                     0   \n",
       " 291                     0                     0                     0   \n",
       " \n",
       "      Neighborhood_Timber  Neighborhood_Veenker  SalePrice_log  \n",
       " 0                      0                     0       0.559876  \n",
       " 1                      0                     1       0.212692  \n",
       " 2                      0                     0       0.733795  \n",
       " 3                      0                     0      -0.437232  \n",
       " 4                      0                     0       1.014303  \n",
       " ..                   ...                   ...            ...  \n",
       " 287                    0                     0      -1.599589  \n",
       " 288                    0                     0      -0.781758  \n",
       " 289                    0                     0      -0.205548  \n",
       " 290                    0                     0       0.840475  \n",
       " 291                    0                     0      -0.511642  \n",
       " \n",
       " [292 rows x 48 columns],\n",
       "      LotArea_log  1stFlrSF_log  GrLivArea_log  BldgType_2fmCon  \\\n",
       " 292     0.447039      0.120464       0.539579                0   \n",
       " 293     1.178606      0.894327       1.369125                0   \n",
       " 294     0.113403      1.250703       0.411072                0   \n",
       " 295    -0.254224     -0.304506      -1.070374                0   \n",
       " 296     0.802095     -0.610760       0.249989                0   \n",
       " ..           ...           ...            ...              ...   \n",
       " 579     0.568649     -0.160375       0.674518                0   \n",
       " 580     0.921659      0.809582      -0.009127                0   \n",
       " 581     0.654817      1.933035       1.061041                0   \n",
       " 582     0.518864     -0.953914      -1.688980                0   \n",
       " 583     0.772264      1.005954       1.980605                0   \n",
       " \n",
       "      BldgType_Duplex  BldgType_Twnhs  BldgType_TwnhsE  KitchenQual_Fa  \\\n",
       " 292                0               0                0               0   \n",
       " 293                0               0                0               0   \n",
       " 294                0               0                0               0   \n",
       " 295                0               0                0               0   \n",
       " 296                0               0                0               0   \n",
       " ..               ...             ...              ...             ...   \n",
       " 579                0               0                0               0   \n",
       " 580                0               0                0               0   \n",
       " 581                0               0                0               0   \n",
       " 582                1               0                0               0   \n",
       " 583                0               0                0               0   \n",
       " \n",
       "      KitchenQual_Gd  KitchenQual_TA  ...  Neighborhood_NridgHt  \\\n",
       " 292               0               1  ...                     0   \n",
       " 293               1               0  ...                     0   \n",
       " 294               0               1  ...                     0   \n",
       " 295               0               1  ...                     0   \n",
       " 296               0               1  ...                     0   \n",
       " ..              ...             ...  ...                   ...   \n",
       " 579               0               1  ...                     0   \n",
       " 580               1               0  ...                     0   \n",
       " 581               0               0  ...                     1   \n",
       " 582               0               1  ...                     0   \n",
       " 583               1               0  ...                     0   \n",
       " \n",
       "      Neighborhood_OldTown  Neighborhood_SWISU  Neighborhood_Sawyer  \\\n",
       " 292                     0                   0                    0   \n",
       " 293                     0                   0                    0   \n",
       " 294                     0                   0                    0   \n",
       " 295                     0                   0                    0   \n",
       " 296                     0                   0                    0   \n",
       " ..                    ...                 ...                  ...   \n",
       " 579                     1                   0                    0   \n",
       " 580                     0                   0                    0   \n",
       " 581                     0                   0                    0   \n",
       " 582                     0                   0                    0   \n",
       " 583                     1                   0                    0   \n",
       " \n",
       "      Neighborhood_SawyerW  Neighborhood_Somerst  Neighborhood_StoneBr  \\\n",
       " 292                     0                     0                     0   \n",
       " 293                     0                     0                     0   \n",
       " 294                     0                     0                     0   \n",
       " 295                     0                     0                     0   \n",
       " 296                     0                     0                     0   \n",
       " ..                    ...                   ...                   ...   \n",
       " 579                     0                     0                     0   \n",
       " 580                     0                     0                     0   \n",
       " 581                     0                     0                     0   \n",
       " 582                     0                     0                     0   \n",
       " 583                     0                     0                     0   \n",
       " \n",
       "      Neighborhood_Timber  Neighborhood_Veenker  SalePrice_log  \n",
       " 292                    0                     0      -0.603573  \n",
       " 293                    0                     0       0.859402  \n",
       " 294                    0                     0       0.004251  \n",
       " 295                    0                     0      -0.392922  \n",
       " 296                    0                     0      -0.231355  \n",
       " ..                   ...                   ...            ...  \n",
       " 579                    0                     0      -0.594036  \n",
       " 580                    0                     0       0.218203  \n",
       " 581                    0                     0       1.047063  \n",
       " 582                    0                     0      -0.854628  \n",
       " 583                    0                     0       1.671114  \n",
       " \n",
       " [292 rows x 48 columns],\n",
       "      LotArea_log  1stFlrSF_log  GrLivArea_log  BldgType_2fmCon  \\\n",
       " 584    -0.756638     -0.348746       0.278715                0   \n",
       " 585     0.452790      1.911383       1.040415                0   \n",
       " 586     0.243216     -0.870183      -1.609221                0   \n",
       " 587    -0.067974     -0.788622      -1.531529                0   \n",
       " 588     1.970412      0.905029       0.081793                0   \n",
       " ..           ...           ...            ...              ...   \n",
       " 871    -0.065764     -1.000542       0.479581                0   \n",
       " 872    -0.034653     -0.610760      -1.362102                0   \n",
       " 873     0.567694     -0.202622      -0.367495                0   \n",
       " 874    -0.887266     -1.546307      -0.710288                0   \n",
       " 875    -0.011322      0.217645       1.796823                0   \n",
       " \n",
       "      BldgType_Duplex  BldgType_Twnhs  BldgType_TwnhsE  KitchenQual_Fa  \\\n",
       " 584                0               0                0               0   \n",
       " 585                0               0                0               0   \n",
       " 586                0               0                0               1   \n",
       " 587                0               0                0               0   \n",
       " 588                0               0                0               0   \n",
       " ..               ...             ...              ...             ...   \n",
       " 871                0               0                0               0   \n",
       " 872                0               0                0               0   \n",
       " 873                0               0                0               0   \n",
       " 874                0               0                0               0   \n",
       " 875                0               0                0               0   \n",
       " \n",
       "      KitchenQual_Gd  KitchenQual_TA  ...  Neighborhood_NridgHt  \\\n",
       " 584               1               0  ...                     0   \n",
       " 585               1               0  ...                     0   \n",
       " 586               0               0  ...                     0   \n",
       " 587               0               1  ...                     0   \n",
       " 588               0               0  ...                     0   \n",
       " ..              ...             ...  ...                   ...   \n",
       " 871               1               0  ...                     0   \n",
       " 872               1               0  ...                     0   \n",
       " 873               0               1  ...                     0   \n",
       " 874               0               1  ...                     0   \n",
       " 875               0               0  ...                     0   \n",
       " \n",
       "      Neighborhood_OldTown  Neighborhood_SWISU  Neighborhood_Sawyer  \\\n",
       " 584                     0                   0                    0   \n",
       " 585                     0                   0                    0   \n",
       " 586                     0                   0                    0   \n",
       " 587                     0                   0                    1   \n",
       " 588                     0                   0                    0   \n",
       " ..                    ...                 ...                  ...   \n",
       " 871                     0                   0                    0   \n",
       " 872                     0                   0                    0   \n",
       " 873                     0                   0                    0   \n",
       " 874                     1                   0                    0   \n",
       " 875                     0                   0                    0   \n",
       " \n",
       "      Neighborhood_SawyerW  Neighborhood_Somerst  Neighborhood_StoneBr  \\\n",
       " 584                     0                     0                     0   \n",
       " 585                     0                     0                     0   \n",
       " 586                     0                     0                     0   \n",
       " 587                     0                     0                     0   \n",
       " 588                     0                     0                     0   \n",
       " ..                    ...                   ...                   ...   \n",
       " 871                     0                     0                     0   \n",
       " 872                     0                     0                     0   \n",
       " 873                     0                     0                     0   \n",
       " 874                     0                     0                     0   \n",
       " 875                     0                     1                     0   \n",
       " \n",
       "      Neighborhood_Timber  Neighborhood_Veenker  SalePrice_log  \n",
       " 584                    0                     0      -0.565641  \n",
       " 585                    1                     0       1.995077  \n",
       " 586                    0                     0      -0.622756  \n",
       " 587                    0                     0      -0.491460  \n",
       " 588                    0                     0      -0.384154  \n",
       " ..                   ...                   ...            ...  \n",
       " 871                    0                     0       0.461930  \n",
       " 872                    0                     0      -0.908008  \n",
       " 873                    0                     0      -0.565641  \n",
       " 874                    0                     0      -2.300887  \n",
       " 875                    0                     0       1.499580  \n",
       " \n",
       " [292 rows x 48 columns],\n",
       "       LotArea_log  1stFlrSF_log  GrLivArea_log  BldgType_2fmCon  \\\n",
       " 876      1.985065     -0.190493      -0.961769                0   \n",
       " 877     -0.047300      0.881437       1.317007                0   \n",
       " 878      0.509210      0.139597      -0.647335                0   \n",
       " 879     -0.497002     -0.774018      -1.517616                0   \n",
       " 880     -0.490388     -0.042704      -0.820990                0   \n",
       " ...           ...           ...            ...              ...   \n",
       " 1163     0.684406      0.408450      -0.391233                0   \n",
       " 1164     1.119475      0.816183      -0.002839                0   \n",
       " 1165     0.101489      0.966391       0.140244                0   \n",
       " 1166     0.281977      1.344998       0.500894                0   \n",
       " 1167     0.350308     -0.445694       0.459910                0   \n",
       " \n",
       "       BldgType_Duplex  BldgType_Twnhs  BldgType_TwnhsE  KitchenQual_Fa  \\\n",
       " 876                 0               0                0               0   \n",
       " 877                 0               0                0               0   \n",
       " 878                 0               0                0               0   \n",
       " 879                 0               0                0               0   \n",
       " 880                 0               0                0               0   \n",
       " ...               ...             ...              ...             ...   \n",
       " 1163                1               0                0               0   \n",
       " 1164                0               0                0               0   \n",
       " 1165                0               0                0               0   \n",
       " 1166                0               0                0               0   \n",
       " 1167                0               0                0               0   \n",
       " \n",
       "       KitchenQual_Gd  KitchenQual_TA  ...  Neighborhood_NridgHt  \\\n",
       " 876                0               1  ...                     0   \n",
       " 877                0               0  ...                     1   \n",
       " 878                1               0  ...                     0   \n",
       " 879                0               1  ...                     0   \n",
       " 880                0               1  ...                     0   \n",
       " ...              ...             ...  ...                   ...   \n",
       " 1163               0               1  ...                     0   \n",
       " 1164               1               0  ...                     0   \n",
       " 1165               1               0  ...                     1   \n",
       " 1166               1               0  ...                     0   \n",
       " 1167               0               1  ...                     0   \n",
       " \n",
       "       Neighborhood_OldTown  Neighborhood_SWISU  Neighborhood_Sawyer  \\\n",
       " 876                      0                   0                    0   \n",
       " 877                      0                   0                    0   \n",
       " 878                      0                   0                    1   \n",
       " 879                      0                   0                    0   \n",
       " 880                      0                   0                    0   \n",
       " ...                    ...                 ...                  ...   \n",
       " 1163                     0                   0                    1   \n",
       " 1164                     0                   0                    0   \n",
       " 1165                     0                   0                    0   \n",
       " 1166                     0                   0                    0   \n",
       " 1167                     0                   0                    0   \n",
       " \n",
       "       Neighborhood_SawyerW  Neighborhood_Somerst  Neighborhood_StoneBr  \\\n",
       " 876                      0                     0                     0   \n",
       " 877                      0                     0                     0   \n",
       " 878                      0                     0                     0   \n",
       " 879                      0                     0                     0   \n",
       " 880                      0                     0                     0   \n",
       " ...                    ...                   ...                   ...   \n",
       " 1163                     0                     0                     0   \n",
       " 1164                     0                     0                     0   \n",
       " 1165                     0                     0                     0   \n",
       " 1166                     0                     0                     0   \n",
       " 1167                     0                     0                     0   \n",
       " \n",
       "       Neighborhood_Timber  Neighborhood_Veenker  SalePrice_log  \n",
       " 876                     0                     0      -0.579798  \n",
       " 877                     0                     0       1.856638  \n",
       " 878                     0                     0      -0.298117  \n",
       " 879                     0                     0      -0.500614  \n",
       " 880                     0                     0      -0.150331  \n",
       " ...                   ...                   ...            ...  \n",
       " 1163                    0                     0      -1.064769  \n",
       " 1164                    0                     1       0.379426  \n",
       " 1165                    0                     0       0.839831  \n",
       " 1166                    0                     0       0.967301  \n",
       " 1167                    0                     0       0.092617  \n",
       " \n",
       " [292 rows x 48 columns],\n",
       "       LotArea_log  1stFlrSF_log  GrLivArea_log  BldgType_2fmCon  \\\n",
       " 1168     0.804631      0.352923       1.156408                0   \n",
       " 1169     2.654850      1.589765       2.783348                0   \n",
       " 1170     0.168963      0.037123      -0.744948                0   \n",
       " 1171     0.014276      0.415947      -0.384092                0   \n",
       " 1172    -1.570298     -1.793188      -0.410359                0   \n",
       " ...           ...           ...            ...              ...   \n",
       " 1455    -0.259100     -0.465447       0.416538                0   \n",
       " 1456     0.725171      1.980456       1.106213                0   \n",
       " 1457    -0.002324      0.228260       1.469438                0   \n",
       " 1458     0.136814     -0.077546      -0.854179                0   \n",
       " 1459     0.180080      0.403443      -0.396003                0   \n",
       " \n",
       "       BldgType_Duplex  BldgType_Twnhs  BldgType_TwnhsE  KitchenQual_Fa  \\\n",
       " 1168                0               0                0               0   \n",
       " 1169                0               0                0               0   \n",
       " 1170                0               0                0               0   \n",
       " 1171                0               0                0               0   \n",
       " 1172                0               0                1               0   \n",
       " ...               ...             ...              ...             ...   \n",
       " 1455                0               0                0               0   \n",
       " 1456                0               0                0               0   \n",
       " 1457                0               0                0               0   \n",
       " 1458                0               0                0               0   \n",
       " 1459                0               0                0               0   \n",
       " \n",
       "       KitchenQual_Gd  KitchenQual_TA  ...  Neighborhood_NridgHt  \\\n",
       " 1168               1               0  ...                     0   \n",
       " 1169               1               0  ...                     0   \n",
       " 1170               0               1  ...                     0   \n",
       " 1171               0               1  ...                     0   \n",
       " 1172               1               0  ...                     0   \n",
       " ...              ...             ...  ...                   ...   \n",
       " 1455               0               1  ...                     0   \n",
       " 1456               0               1  ...                     0   \n",
       " 1457               1               0  ...                     0   \n",
       " 1458               1               0  ...                     0   \n",
       " 1459               0               1  ...                     0   \n",
       " \n",
       "       Neighborhood_OldTown  Neighborhood_SWISU  Neighborhood_Sawyer  \\\n",
       " 1168                     0                   0                    0   \n",
       " 1169                     0                   0                    0   \n",
       " 1170                     0                   0                    0   \n",
       " 1171                     0                   0                    0   \n",
       " 1172                     0                   0                    0   \n",
       " ...                    ...                 ...                  ...   \n",
       " 1455                     0                   0                    0   \n",
       " 1456                     0                   0                    0   \n",
       " 1457                     0                   0                    0   \n",
       " 1458                     0                   0                    0   \n",
       " 1459                     0                   0                    0   \n",
       " \n",
       "       Neighborhood_SawyerW  Neighborhood_Somerst  Neighborhood_StoneBr  \\\n",
       " 1168                     0                     0                     0   \n",
       " 1169                     0                     0                     0   \n",
       " 1170                     0                     0                     0   \n",
       " 1171                     0                     0                     0   \n",
       " 1172                     0                     1                     0   \n",
       " ...                    ...                   ...                   ...   \n",
       " 1455                     0                     0                     0   \n",
       " 1456                     0                     0                     0   \n",
       " 1457                     0                     0                     0   \n",
       " 1458                     0                     0                     0   \n",
       " 1459                     0                     0                     0   \n",
       " \n",
       "       Neighborhood_Timber  Neighborhood_Veenker  SalePrice_log  \n",
       " 1168                    0                     0       0.859402  \n",
       " 1169                    0                     0       3.308173  \n",
       " 1170                    0                     0       0.063507  \n",
       " 1171                    0                     0      -0.056441  \n",
       " 1172                    0                     0       0.076648  \n",
       " ...                   ...                   ...            ...  \n",
       " 1455                    0                     0       0.121392  \n",
       " 1456                    0                     0       0.577822  \n",
       " 1457                    0                     0       1.174306  \n",
       " 1458                    0                     0      -0.399519  \n",
       " 1459                    0                     0      -0.306589  \n",
       " \n",
       " [292 rows x 48 columns]]"
      ]
     },
     "execution_count": 10,
     "metadata": {},
     "output_type": "execute_result"
    }
   ],
   "source": [
    "# Apply kfolds() to ames_data with 5 folds\n",
    "folds = kfolds(ames_data, 5)\n",
    "folds"
   ]
  },
  {
   "cell_type": "markdown",
   "metadata": {},
   "source": [
    "### Perform a linear regression for each fold and calculate the training and test error"
   ]
  },
  {
   "cell_type": "markdown",
   "metadata": {},
   "source": [
    "Perform linear regression on each and calculate the training and test error: "
   ]
  },
  {
   "cell_type": "code",
   "execution_count": 13,
   "metadata": {
    "ExecuteTime": {
     "end_time": "2020-04-18T16:43:51.273644Z",
     "start_time": "2020-04-18T16:43:51.081356Z"
    }
   },
   "outputs": [
    {
     "name": "stdout",
     "output_type": "stream",
     "text": [
      "1168\n",
      "1168\n",
      "1168\n",
      "1168\n",
      "1168\n",
      "[0.17170509651464658, 0.15507935685930538, 0.156599463262233, 0.16134557666308721, 0.1516504855313168]\n",
      "\n",
      "[0.12431546148437417, 0.1935006463131315, 0.18910530431311198, 0.17079325250026922, 0.20742704588916958]\n",
      "\n",
      "Mean train error 0.15927599576611778\n",
      "Mean test error 0.1770283421000113\n"
     ]
    }
   ],
   "source": [
    "test_errs = []\n",
    "train_errs = []\n",
    "k=5\n",
    "\n",
    "for n in range(k):\n",
    "    # Split in train and test for the fold\n",
    "#     train = pd.concat(folds[:n-1] + folds[n+1:])\n",
    "    train = pd.concat([fold for i, fold in enumerate(folds) if i!=n])\n",
    "    print(len(train))\n",
    "    test = folds[n]\n",
    "    # Fit a linear regression model\n",
    "    linreg = LinearRegression()\n",
    "    linreg.fit(train.drop('SalePrice_log', axis=1), train['SalePrice_log'])\n",
    "    y_hat_train = linreg.predict(train.drop('SalePrice_log', axis=1))\n",
    "    y_hat_test = linreg.predict(test.drop('SalePrice_log', axis=1))\n",
    "    # Evaluate Train and Test errors\n",
    "    train_mse = mean_squared_error(train['SalePrice_log'], y_hat_train)\n",
    "    test_mse = mean_squared_error(test['SalePrice_log'], y_hat_test)\n",
    "    train_errs.append(train_mse)\n",
    "    test_errs.append(test_mse)\n",
    "\n",
    "print(train_errs)\n",
    "print('')\n",
    "print(test_errs)\n",
    "print('')\n",
    "print(f'Mean train error {sum(train_errs) / len(train_errs)}')\n",
    "print(f'Mean test error {sum(test_errs) / len(test_errs)}')"
   ]
  },
  {
   "cell_type": "markdown",
   "metadata": {},
   "source": [
    "## Cross-Validation using Scikit-Learn"
   ]
  },
  {
   "cell_type": "markdown",
   "metadata": {},
   "source": [
    "This was a bit of work! Now, let's perform 5-fold cross-validation to get the mean squared error through scikit-learn. Let's have a look at the five individual MSEs and explain what's going on."
   ]
  },
  {
   "cell_type": "code",
   "execution_count": 14,
   "metadata": {
    "ExecuteTime": {
     "end_time": "2020-04-18T16:44:50.394787Z",
     "start_time": "2020-04-18T16:44:50.391478Z"
    }
   },
   "outputs": [],
   "source": [
    "from sklearn.model_selection import cross_val_score"
   ]
  },
  {
   "cell_type": "code",
   "execution_count": 25,
   "metadata": {
    "ExecuteTime": {
     "end_time": "2020-04-18T16:46:54.938550Z",
     "start_time": "2020-04-18T16:46:54.862027Z"
    }
   },
   "outputs": [
    {
     "data": {
      "text/plain": [
       "array([-0.12431546, -0.19350065, -0.1891053 , -0.17079325, -0.20742705])"
      ]
     },
     "execution_count": 25,
     "metadata": {},
     "output_type": "execute_result"
    }
   ],
   "source": [
    "\n",
    "linreg = LinearRegression()\n",
    "\n",
    "cv_5_results = cross_val_score(linreg, X, y, cv=5, scoring='neg_mean_squared_error')\n",
    "cv_5_results"
   ]
  },
  {
   "cell_type": "markdown",
   "metadata": {},
   "source": [
    "Next, calculate the mean of the MSE over the 5 cross-validation and compare and contrast with the result from the train-test split case."
   ]
  },
  {
   "cell_type": "code",
   "execution_count": 26,
   "metadata": {
    "ExecuteTime": {
     "end_time": "2020-04-18T16:46:55.867197Z",
     "start_time": "2020-04-18T16:46:55.861953Z"
    }
   },
   "outputs": [
    {
     "data": {
      "text/plain": [
       "-0.1770283421000113"
      ]
     },
     "execution_count": 26,
     "metadata": {},
     "output_type": "execute_result"
    }
   ],
   "source": [
    "np.mean(cv_5_results)"
   ]
  },
  {
   "cell_type": "markdown",
   "metadata": {},
   "source": [
    "##  Summary "
   ]
  },
  {
   "cell_type": "markdown",
   "metadata": {},
   "source": [
    "Congratulations! You are now familiar with cross-validation and know how to use `cross_val_score()`. Remember that the results obtained from cross-validation are robust and always use it whenever possible! "
   ]
  }
 ],
 "metadata": {
  "kernelspec": {
   "display_name": "learn-env",
   "language": "python",
   "name": "learn-env"
  },
  "language_info": {
   "codemirror_mode": {
    "name": "ipython",
    "version": 3
   },
   "file_extension": ".py",
   "mimetype": "text/x-python",
   "name": "python",
   "nbconvert_exporter": "python",
   "pygments_lexer": "ipython3",
   "version": "3.6.9"
  },
  "toc": {
   "base_numbering": 1,
   "nav_menu": {},
   "number_sections": true,
   "sideBar": true,
   "skip_h1_title": false,
   "title_cell": "Table of Contents",
   "title_sidebar": "Contents",
   "toc_cell": false,
   "toc_position": {},
   "toc_section_display": true,
   "toc_window_display": false
  },
  "varInspector": {
   "cols": {
    "lenName": 16,
    "lenType": 16,
    "lenVar": 40
   },
   "kernels_config": {
    "python": {
     "delete_cmd_postfix": "",
     "delete_cmd_prefix": "del ",
     "library": "var_list.py",
     "varRefreshCmd": "print(var_dic_list())"
    },
    "r": {
     "delete_cmd_postfix": ") ",
     "delete_cmd_prefix": "rm(",
     "library": "var_list.r",
     "varRefreshCmd": "cat(var_dic_list()) "
    }
   },
   "types_to_exclude": [
    "module",
    "function",
    "builtin_function_or_method",
    "instance",
    "_Feature"
   ],
   "window_display": false
  }
 },
 "nbformat": 4,
 "nbformat_minor": 2
}
